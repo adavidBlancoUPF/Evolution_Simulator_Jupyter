{
 "cells": [
  {
   "cell_type": "markdown",
   "metadata": {},
   "source": [
    "First thing"
   ]
  },
  {
   "cell_type": "code",
   "execution_count": 126,
   "metadata": {},
   "outputs": [],
   "source": [
    "import numpy as np\n",
    "import math \n",
    "import random\n",
    "\n",
    "gen_death_probs = np.array([0.8, 0.6, 0.4, 0.2])\n",
    "gen_mutation_offspring_probs = np.array([0.8,0.9])\n",
    "offspring_number = 4\n",
    "\n",
    "number_of_individuals = 20\n",
    "gene_value = 3\n",
    "\n",
    "population = np.empty(number_of_individuals)\n",
    "population.fill(gene_value)\n",
    "population = population.astype(int)\n",
    "generation = 1\n",
    "\n",
    "max_number_print = 20\n"
   ]
  },
  {
   "cell_type": "code",
   "execution_count": 127,
   "metadata": {},
   "outputs": [],
   "source": [
    "max_number_population = 500\n",
    "if len(population) > max_number_population:\n",
    "    population_aux = np.random.choice(population, max_number_population, replace=False)\n",
    "    population = population_aux.copy()\n"
   ]
  },
  {
   "cell_type": "code",
   "execution_count": 157,
   "metadata": {},
   "outputs": [
    {
     "name": "stdout",
     "output_type": "stream",
     "text": [
      "Generation 13\n",
      "This is the actual population: \n",
      "These are the individuals that died (-1 means death):\n",
      "[ 0  1  0  0  0 -1  0 -1  2 -1  0  2  1  1  0  0  0  0  0  0]\n"
     ]
    }
   ],
   "source": [
    "# Population DEATHS\n",
    "death_counter = 0\n",
    "\n",
    "#Status of the generation\n",
    "print(\"Generation {}\".format(generation))\n",
    "generation = generation + 1\n",
    "\n",
    "final_population = np.array([])\n",
    "print(\"This is the actual population: \")\n",
    "##print(population)\n",
    "#random.seed(1)\n",
    "for individual in population:\n",
    "    if random.random() > gen_death_probs[individual]:\n",
    "        final_population = np.append(final_population, -1)\n",
    "        death_counter = death_counter + 1\n",
    "    else:\n",
    "        final_population = np.append(final_population, individual)\n",
    "    \n",
    "final_population = final_population.astype(int)\n",
    "print(\"These are the individuals that died (-1 means death):\")\n",
    "\n",
    "#print a maximum of 20 individuals\n",
    "if len(final_population) < max_number_print:\n",
    "    print(final_population)\n",
    "else:\n",
    "    population_aux = np.random.choice(final_population, max_number_print, replace=False)\n",
    "    print(population_aux)\n"
   ]
  },
  {
   "cell_type": "code",
   "execution_count": 158,
   "metadata": {},
   "outputs": [
    {
     "name": "stdout",
     "output_type": "stream",
     "text": [
      "This is the offspring: \n",
      "[2 0 0 2 2 0 0 0 1 0 0 0 2 0 0 0 1 0 1 3]\n"
     ]
    }
   ],
   "source": [
    "#Population Offspring\n",
    "offspring = np.array([])\n",
    "#random.seed(2)\n",
    "for individual in final_population:  \n",
    "    if individual != -1:\n",
    "        for j in range(offspring_number):\n",
    "            random_number = random.random()\n",
    "            if random_number < gen_mutation_offspring_probs[0]:\n",
    "                offspring = np.append(offspring, individual)\n",
    "            else:\n",
    "                if random_number < gen_mutation_offspring_probs[1]:\n",
    "                    mutation = 1\n",
    "                else:\n",
    "                    mutation = 2\n",
    "                if individual == (len(gen_death_probs)-1):\n",
    "                    offspring = np.append(offspring, individual-mutation)\n",
    "                elif individual == 0:\n",
    "                    offspring = np.append(offspring, individual+mutation)\n",
    "                \n",
    "                elif random.random() < 0.5:\n",
    "                    if (individual - mutation) < 0:\n",
    "                        mutation = mutation - 1\n",
    "                    offspring = np.append(offspring, individual-mutation)\n",
    "                else:\n",
    "                    if (individual + mutation) > (len(gen_death_probs)-1):\n",
    "                        mutation = mutation - 1\n",
    "                    offspring = np.append(offspring, individual+mutation)\n",
    "                \n",
    "          \n",
    "print(\"This is the offspring: \")\n",
    "offspring = offspring.astype(int)\n",
    "#print a maximum of 20 individuals\n",
    "if len(offspring) < max_number_print:\n",
    "    print(offspring)\n",
    "else:\n",
    "    offspring_aux = np.random.choice(offspring, max_number_print, replace=False)\n",
    "    print(offspring_aux)\n",
    "\n",
    "population = offspring.copy()\n"
   ]
  },
  {
   "cell_type": "code",
   "execution_count": 159,
   "metadata": {},
   "outputs": [
    {
     "name": "stdout",
     "output_type": "stream",
     "text": [
      "Final percentages:\n",
      "Initial Population: 1824\n",
      "Final Population: 1192 (a 65.35% survived)\n",
      "Number of newborns: 4768\n",
      "Newborns: White Butterflies: 3.06%\n",
      "Newborns: White-Grey Butterflies: 16.42%\n",
      "Newborns: Grey-White Butterflies: 25.99%\n",
      "Newborns: Black Butterflies: 54.53%\n"
     ]
    }
   ],
   "source": [
    "print(\"Final percentages:\")\n",
    "print(\"Initial Population: {}\" .format(len(final_population)))\n",
    "print(\"Final Population: %d (a %.2f%c survived)\" % (len(final_population) - death_counter, 100*(len(final_population) - death_counter)/len(final_population),'%'));\n",
    "print(\"Number of newborns: %d\" % len(offspring))\n",
    "print(\"Newborns: White Butterflies: %.2f%c\" % (100*len((np.where(offspring == 3))[0])/len(offspring), '%'))\n",
    "print(\"Newborns: White-Grey Butterflies: %.2f%c\" % (100*len((np.where(offspring == 2))[0])/len(offspring), '%'))\n",
    "print(\"Newborns: Grey-White Butterflies: %.2f%c\" % (100*len((np.where(offspring == 1))[0])/len(offspring), '%'))\n",
    "print(\"Newborns: Black Butterflies: %.2f%c\" % (100*len((np.where(offspring == 0))[0])/len(offspring), '%'))"
   ]
  }
 ],
 "metadata": {
  "interpreter": {
   "hash": "b89b5cfaba6639976dc87ff2fec6d58faec662063367e2c229c520fe71072417"
  },
  "kernelspec": {
   "display_name": "Python 3.10.4 64-bit",
   "language": "python",
   "name": "python3"
  },
  "language_info": {
   "codemirror_mode": {
    "name": "ipython",
    "version": 3
   },
   "file_extension": ".py",
   "mimetype": "text/x-python",
   "name": "python",
   "nbconvert_exporter": "python",
   "pygments_lexer": "ipython3",
   "version": "3.10.4"
  },
  "orig_nbformat": 4
 },
 "nbformat": 4,
 "nbformat_minor": 2
}
